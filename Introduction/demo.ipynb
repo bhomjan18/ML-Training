{
  "cells": [
    {
      "cell_type": "markdown",
      "metadata": {
        "id": "view-in-github",
        "colab_type": "text"
      },
      "source": [
        "<a href=\"https://colab.research.google.com/github/bhomjan18/ML-Training/blob/main/demo.ipynb\" target=\"_parent\"><img src=\"https://colab.research.google.com/assets/colab-badge.svg\" alt=\"Open In Colab\"/></a>"
      ]
    },
    {
      "cell_type": "code",
      "execution_count": 1,
      "metadata": {
        "colab": {
          "base_uri": "https://localhost:8080/",
          "height": 430
        },
        "id": "1uRrpd4heaqJ",
        "outputId": "e215b373-fc62-494b-aefe-8ef7d493fe52"
      },
      "outputs": [
        {
          "output_type": "display_data",
          "data": {
            "text/plain": [
              "<Figure size 640x480 with 1 Axes>"
            ],
            "image/png": "[encoded data removed]"
          },
          "metadata": {}
        }
      ],
      "source": [
        "import matplotlib.pyplot as plt\n",
        "import math\n",
        "import numpy as np\n",
        "\n",
        "x1 = [1,2,3]\n",
        "x2 = [4,5,6]\n",
        "\n",
        "plt.scatter(x1, x2)\n",
        "plt.show()"
      ]
    },
    {
      "cell_type": "code",
      "execution_count": 2,
      "metadata": {
        "colab": {
          "base_uri": "https://localhost:8080/"
        },
        "id": "Xkz0kfCReaqN",
        "outputId": "b8b353cf-5b1d-432d-8333-af2f8af2ad5d"
      },
      "outputs": [
        {
          "output_type": "stream",
          "name": "stdout",
          "text": [
            "5.196152422706632\n"
          ]
        }
      ],
      "source": [
        "# Eculidean Distance\n",
        "distance=math.sqrt((x1[0]-x2[0])*(x1[0]-x2[0])+(x1[1]-x2[1])*(x1[1]-x2[1])+(x1[2]-x2[2])*(x1[2]-x2[2]))\n",
        "print(distance)"
      ]
    },
    {
      "cell_type": "code",
      "execution_count": 3,
      "metadata": {
        "colab": {
          "base_uri": "https://localhost:8080/"
        },
        "id": "S7kd_tUveaqN",
        "outputId": "72a36079-c5e0-486a-f12e-483c0c156c10"
      },
      "outputs": [
        {
          "output_type": "stream",
          "name": "stdout",
          "text": [
            "5.196152422706632\n"
          ]
        }
      ],
      "source": [
        "# Eculidean Distance\n",
        "\n",
        "point1= np.array(x1)\n",
        "point2= np.array(x2)\n",
        "\n",
        "temp = point1 - point2\n",
        "\n",
        "sum_sq = np.dot(temp.T, temp)\n",
        "\n",
        "print(np.sqrt(sum_sq))\n"
      ]
    },
    {
      "cell_type": "code",
      "execution_count": 4,
      "metadata": {
        "colab": {
          "base_uri": "https://localhost:8080/"
        },
        "id": "fNUpMXq_eaqO",
        "outputId": "23266d3c-7906-424d-b520-d67110987670"
      },
      "outputs": [
        {
          "output_type": "stream",
          "name": "stdout",
          "text": [
            "5.196152422706632\n"
          ]
        }
      ],
      "source": [
        "print(np.sqrt(np.sum(np.square(point1-point2))))"
      ]
    },
    {
      "cell_type": "code",
      "execution_count": 5,
      "metadata": {
        "colab": {
          "base_uri": "https://localhost:8080/"
        },
        "id": "QOsZxffgeaqP",
        "outputId": "9ea768e8-1289-4776-e81e-3dffb4c7dd75"
      },
      "outputs": [
        {
          "output_type": "stream",
          "name": "stdout",
          "text": [
            "5.196152422706632\n"
          ]
        }
      ],
      "source": [
        "dist = np.linalg.norm(point1 - point2)\n",
        "print(dist)\n"
      ]
    },
    {
      "cell_type": "code",
      "execution_count": 6,
      "metadata": {
        "colab": {
          "base_uri": "https://localhost:8080/"
        },
        "id": "odztF3_VeaqP",
        "outputId": "38ba9ee7-e215-4cc5-cf2d-fe2d3b072403"
      },
      "outputs": [
        {
          "output_type": "stream",
          "name": "stdout",
          "text": [
            "[[ 30  36  42]\n",
            " [ 66  81  96]\n",
            " [102 126 150]]\n"
          ]
        }
      ],
      "source": [
        "# Matrix Multiplication\n",
        "v= np.array([[1,2,3],[4,5,6],[7,8,9]])\n",
        "u= np.array([[1,2,3],[4,5,6],[7,8,9]])\n",
        "\n",
        "result= np.dot(v,u)\n",
        "print(result)"
      ]
    },
    {
      "cell_type": "code",
      "execution_count": 7,
      "metadata": {
        "colab": {
          "base_uri": "https://localhost:8080/"
        },
        "id": "gV-iq1_zeaqP",
        "outputId": "7c346f40-e661-498a-b376-b3f567451e87"
      },
      "outputs": [
        {
          "output_type": "stream",
          "name": "stdout",
          "text": [
            "Enter number of rows in matrix 1: 2\n",
            "Enter number of columns in matrix 1: 2\n",
            "Enter elements of matrix 1:\n",
            "Enter element [1, 1]: 1 \n",
            "Enter element [1, 2]: 2\n",
            "Enter element [2, 1]: 3\n",
            "Enter element [2, 2]: 4\n",
            "Enter number of rows in matrix 2: 2\n",
            "Enter number of columns in matrix 2: 2\n",
            "Enter elements of matrix 2:\n",
            "Enter element [1, 1]: 5\n",
            "Enter element [1, 2]: 2\n",
            "Enter element [2, 1]: 1\n",
            "Enter element [2, 2]: 4\n",
            "Product of the two matrices is:\n",
            "[7, 10]\n",
            "[19, 22]\n"
          ]
        }
      ],
      "source": [
        "def multiply_matrix():\n",
        "    # Input for first matrix\n",
        "    u_row = int(input(\"Enter number of rows in matrix 1: \"))\n",
        "    u_col = int(input(\"Enter number of columns in matrix 1: \"))\n",
        "    print(\"Enter elements of matrix 1:\")\n",
        "    matrix1 = []\n",
        "    for i in range(u_row):\n",
        "        row = [int(input(f\"Enter element [{i+1}, {j+1}]: \")) for j in range(u_col)]\n",
        "        matrix1.append(row)\n",
        "\n",
        "    # Input for second matrix\n",
        "    v_row = int(input(\"Enter number of rows in matrix 2: \"))\n",
        "    v_col = int(input(\"Enter number of columns in matrix 2: \"))\n",
        "    print(\"Enter elements of matrix 2:\")\n",
        "    matrix2 = []\n",
        "    for i in range(v_row):\n",
        "        row = [int(input(f\"Enter element [{i+1}, {j+1}]: \")) for j in range(v_col)]\n",
        "        matrix2.append(row)\n",
        "\n",
        "    if u_col != v_row:\n",
        "        print(\"Matrix multiplication not possible. Number of columns of matrix 1 must equal the number of rows of matrix 2.\")\n",
        "        return\n",
        "\n",
        "    result = [[0] * v_col for _ in range(u_row)]\n",
        "\n",
        "    # Perform matrix multiplication\n",
        "    for i in range(u_row):\n",
        "        for j in range(v_col):\n",
        "            for k in range(u_col):\n",
        "                result[i][j] += matrix1[i][k] * matrix2[k][j]\n",
        "\n",
        "    print(\"Product of the two matrices is:\")\n",
        "    for row in result:\n",
        "        print(row)\n",
        "\n",
        "multiply_matrix()\n"
      ]
    },
    {
      "cell_type": "code",
      "execution_count": 9,
      "metadata": {
        "colab": {
          "base_uri": "https://localhost:8080/"
        },
        "id": "ExSG0f44eaqQ",
        "outputId": "f31b85cc-6808-49ab-ccbf-c0305bb06725"
      },
      "outputs": [
        {
          "output_type": "stream",
          "name": "stdout",
          "text": [
            "[3.0, 4.0]\n"
          ]
        }
      ],
      "source": [
        "x1=[1,2]\n",
        "x2=[3,4]\n",
        "x3=[5,6]\n",
        "\n",
        "centroid = [(x1[0]+x2[0]+x3[0])/3,(x1[1]+x2[1]+x3[1])/3]\n",
        "print(centroid)"
      ]
    },
    {
      "cell_type": "code",
      "execution_count": 10,
      "metadata": {
        "colab": {
          "base_uri": "https://localhost:8080/"
        },
        "id": "IkaS2ugZeaqQ",
        "outputId": "149336ee-dc5b-4d95-db77-b17195af6be0"
      },
      "outputs": [
        {
          "output_type": "stream",
          "name": "stdout",
          "text": [
            "Enter how many points do you have: 2\n",
            "Enter the x-coordinate of point 1: 3\n",
            "Enter the y-coordinate of point 1: 4\n",
            "Enter the x-coordinate of point 2: 2\n",
            "Enter the y-coordinate of point 2: 6\n",
            "[2.5, 5.0]\n"
          ]
        }
      ],
      "source": [
        "def centroid():\n",
        "    totalPoint= int(input(\"Enter how many points do you have: \"))\n",
        "    points = []\n",
        "    for i in range(totalPoint):\n",
        "        x = int(input(\"Enter the x-coordinate of point {}: \".format(i+1)))\n",
        "        y = int(input(\"Enter the y-coordinate of point {}: \".format(i+1)))\n",
        "        points.append((x,y))\n",
        "\n",
        "    x_sum = 0\n",
        "    y_sum = 0\n",
        "    for point in points:\n",
        "        x_sum += point[0]\n",
        "        y_sum += point[1]\n",
        "\n",
        "    centroid = [x_sum/totalPoint, y_sum/totalPoint]\n",
        "    print(centroid)\n",
        "\n",
        "centroid()\n",
        ""
      ]
    }
  ],
  "metadata": {
    "kernelspec": {
      "display_name": "Python 3",
      "language": "python",
      "name": "python3"
    },
    "language_info": {
      "codemirror_mode": {
        "name": "ipython",
        "version": 3
      },
      "file_extension": ".py",
      "mimetype": "text/x-python",
      "name": "python",
      "nbconvert_exporter": "python",
      "pygments_lexer": "ipython3",
      "version": "3.11.1"
    },
    "colab": {
      "provenance": [],
      "include_colab_link": true
    }
  },
  "nbformat": 4,
  "nbformat_minor": 0
}